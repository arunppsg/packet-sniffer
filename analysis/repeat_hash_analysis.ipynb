{
 "cells": [
  {
   "cell_type": "code",
   "execution_count": 21,
   "id": "5304eaad",
   "metadata": {},
   "outputs": [],
   "source": [
    "import json\n",
    "import pandas as pd\n",
    "import matplotlib.pyplot as plt"
   ]
  },
  {
   "cell_type": "markdown",
   "id": "0c0229a5",
   "metadata": {},
   "source": [
    "## Question: Why are hash getting repeated?"
   ]
  },
  {
   "cell_type": "code",
   "execution_count": 2,
   "id": "cc443ddb",
   "metadata": {},
   "outputs": [
    {
     "name": "stdout",
     "output_type": "stream",
     "text": [
      "(259089, 17) (123155, 17)\n"
     ]
    }
   ],
   "source": [
    "train = pd.read_json(\"logs/train.json\", lines=True)\n",
    "test = pd.read_json(\"logs/test.json\", lines=True)\n",
    "\n",
    "print (train.shape, test.shape)"
   ]
  },
  {
   "cell_type": "code",
   "execution_count": 3,
   "id": "b9ffe9ff",
   "metadata": {},
   "outputs": [
    {
     "data": {
      "text/plain": [
       "(382244, 17)"
      ]
     },
     "execution_count": 3,
     "metadata": {},
     "output_type": "execute_result"
    }
   ],
   "source": [
    "logs = pd.concat([train, test], axis=0)\n",
    "\n",
    "logs.shape"
   ]
  },
  {
   "cell_type": "code",
   "execution_count": 4,
   "id": "f8007316",
   "metadata": {},
   "outputs": [
    {
     "data": {
      "text/plain": [
       "(378941, 17)"
      ]
     },
     "execution_count": 4,
     "metadata": {},
     "output_type": "execute_result"
    }
   ],
   "source": [
    "logs = logs[((logs['d_port'] == 443) | (logs['s_port'] == 443)) & (logs['protocol'] == 6)]\n",
    "logs.shape"
   ]
  },
  {
   "cell_type": "code",
   "execution_count": 5,
   "id": "02b980bf",
   "metadata": {},
   "outputs": [],
   "source": [
    "vc = logs['payload_hash'].value_counts()\n",
    "repeat_hashes = list(vc[vc > 2].index)\n",
    "\n",
    "df = logs[logs['payload_hash'].isin(repeat_hashes)].reset_index(drop=True)"
   ]
  },
  {
   "cell_type": "code",
   "execution_count": 6,
   "id": "0adc3efd",
   "metadata": {},
   "outputs": [
    {
     "name": "stdout",
     "output_type": "stream",
     "text": [
      " Total number of unique hashes: 350191\n",
      " Number of repeated hashes: 276\n",
      " As percentage: 0.00079\n",
      " Each repeated hash is repeated approximately 104.70652\n",
      "\n"
     ]
    }
   ],
   "source": [
    "print (\" Total number of unique hashes: {}\\n\".format(logs['payload_hash'].nunique()),\n",
    "       \"Number of repeated hashes: {}\\n\".format(len(repeat_hashes)),\n",
    "       \"As percentage: {:.5f}\\n\".format(len(repeat_hashes)/logs['payload_hash'].nunique()),\n",
    "       \"Each repeated hash is repeated approximately {:.5f}\\n\".format(df.shape[0]/len(repeat_hashes)))"
   ]
  },
  {
   "cell_type": "markdown",
   "id": "92276ca3",
   "metadata": {},
   "source": [
    "Approximately 7.9 hashes in 10,000 are repeated."
   ]
  },
  {
   "cell_type": "code",
   "execution_count": 7,
   "id": "517c6c83",
   "metadata": {},
   "outputs": [],
   "source": [
    "df.drop(['ip_version', 'protocol'], axis=1, inplace=True)"
   ]
  },
  {
   "cell_type": "code",
   "execution_count": 8,
   "id": "40494db4",
   "metadata": {},
   "outputs": [
    {
     "data": {
      "text/plain": [
       "Index(['timestamp', 's_ip', 'd_ip', 's_port', 'd_port', 'payload_size',\n",
       "       'payload_hash', 'seq', 'ack_seq', 'doff', 'res1', 'res2', 'urg', 'ack',\n",
       "       'psh'],\n",
       "      dtype='object')"
      ]
     },
     "execution_count": 8,
     "metadata": {},
     "output_type": "execute_result"
    }
   ],
   "source": [
    "df.columns"
   ]
  },
  {
   "cell_type": "code",
   "execution_count": 35,
   "id": "ba081246",
   "metadata": {},
   "outputs": [
    {
     "data": {
      "text/plain": [
       "count      276.000000\n",
       "mean       104.706522\n",
       "std       1443.020992\n",
       "min          3.000000\n",
       "25%          4.000000\n",
       "50%          6.000000\n",
       "75%          8.000000\n",
       "max      23930.000000\n",
       "Name: payload_hash, dtype: float64"
      ]
     },
     "execution_count": 35,
     "metadata": {},
     "output_type": "execute_result"
    }
   ],
   "source": [
    "df['payload_hash'].value_counts().describe()"
   ]
  },
  {
   "cell_type": "markdown",
   "id": "318a65e7",
   "metadata": {},
   "source": [
    "Let's take the most repeated hash and and perform analysis on how frequently it is repeated, it's characteristics etc."
   ]
  },
  {
   "cell_type": "code",
   "execution_count": 10,
   "id": "d97c0d5e",
   "metadata": {},
   "outputs": [
    {
     "data": {
      "text/plain": [
       "(23930, 15)"
      ]
     },
     "execution_count": 10,
     "metadata": {},
     "output_type": "execute_result"
    }
   ],
   "source": [
    "df1 = df[df['payload_hash'] == vc.index[0]]\n",
    "df1.shape"
   ]
  },
  {
   "cell_type": "code",
   "execution_count": 12,
   "id": "3386a0a7",
   "metadata": {},
   "outputs": [
    {
     "data": {
      "text/plain": [
       "218"
      ]
     },
     "execution_count": 12,
     "metadata": {},
     "output_type": "execute_result"
    }
   ],
   "source": [
    "df1['s_ip'].nunique()"
   ]
  },
  {
   "cell_type": "code",
   "execution_count": 17,
   "id": "fc041d17",
   "metadata": {},
   "outputs": [],
   "source": [
    "df2 = df1[df1['d_ip'] == '192.168.1.6']"
   ]
  },
  {
   "cell_type": "code",
   "execution_count": 29,
   "id": "94c388a6",
   "metadata": {},
   "outputs": [],
   "source": [
    "seconds = (df2['timestamp'] - df2['timestamp'].shift(1)).dt.seconds"
   ]
  },
  {
   "cell_type": "code",
   "execution_count": 33,
   "id": "2f97befb",
   "metadata": {},
   "outputs": [
    {
     "data": {
      "image/png": "[encoded data removed]",
      "text/plain": [
       "<Figure size 1440x432 with 1 Axes>"
      ]
     },
     "metadata": {
      "needs_background": "light"
     },
     "output_type": "display_data"
    }
   ],
   "source": [
    "plt.figure(figsize=(20, 6))\n",
    "plt.boxplot(seconds)\n",
    "plt.show()"
   ]
  },
  {
   "cell_type": "code",
   "execution_count": 34,
   "id": "0540f902",
   "metadata": {},
   "outputs": [
    {
     "data": {
      "text/plain": [
       "count    12866.000000\n",
       "mean        18.605316\n",
       "std       1050.967314\n",
       "min          0.000000\n",
       "25%          0.000000\n",
       "50%          0.000000\n",
       "75%          0.000000\n",
       "max      76931.000000\n",
       "Name: timestamp, dtype: float64"
      ]
     },
     "execution_count": 34,
     "metadata": {},
     "output_type": "execute_result"
    }
   ],
   "source": [
    "seconds.describe()"
   ]
  },
  {
   "cell_type": "code",
   "execution_count": null,
   "id": "f265ca0c",
   "metadata": {},
   "outputs": [],
   "source": []
  }
 ],
 "metadata": {
  "kernelspec": {
   "display_name": "Python 3 (ipykernel)",
   "language": "python",
   "name": "python3"
  },
  "language_info": {
   "codemirror_mode": {
    "name": "ipython",
    "version": 3
   },
   "file_extension": ".py",
   "mimetype": "text/x-python",
   "name": "python",
   "nbconvert_exporter": "python",
   "pygments_lexer": "ipython3",
   "version": "3.8.5"
  }
 },
 "nbformat": 4,
 "nbformat_minor": 5
}
